{
 "cells": [
  {
   "cell_type": "code",
   "execution_count": null,
   "id": "8b393250-97a4-473f-ac92-8768eca8127e",
   "metadata": {},
   "outputs": [],
   "source": [
    "import matplotlib.pyplot as plt\n",
    "import numpy as np\n",
    "from tensorflow.keras.preprocessing import image\n",
    "from tensorflow.keras.preprocessing.image import ImageDataGenerator, load_img, img_to_array\n",
    "import tensorflow as tf\n",
    "from tensorflow.keras import layers, models\n",
    "import os\n",
    "import seaborn as sns\n"
   ]
  },
  {
   "cell_type": "code",
   "execution_count": null,
   "id": "767f8267-2d73-4109-b8ab-7e53c0206411",
   "metadata": {},
   "outputs": [],
   "source": [
    "# Define common parameters\n",
    "Img_size = (224, 224)\n",
    "Batch_Size = 32\n",
    "Train_Data_Dir = \"C:/Users/OWNER/Downloads/SDS-CP028-smart-leaf_Project/SDS-CP028-smart-leaf/submissions/team-members/Samsudeen/Data/Train_Val_Test_Data/train\"\n",
    "Val_Data_Dir = \"C:/Users/OWNER/Downloads/SDS-CP028-smart-leaf_Project/SDS-CP028-smart-leaf/submissions/team-members/Samsudeen/Data/Train_Val_Test_Data/val\"\n",
    "Test_Data_Dir = \"C:/Users/OWNER/Downloads/SDS-CP028-smart-leaf_Project/SDS-CP028-smart-leaf/submissions/team-members/Samsudeen/Data/Train_Val_Test_Data/test\""
   ]
  },
  {
   "cell_type": "code",
   "execution_count": null,
   "id": "dfd67dd4-3612-40ab-9811-c3cae6f5f9a6",
   "metadata": {},
   "outputs": [],
   "source": [
    "# Data Augmentation for Training\n",
    "train_datagen = ImageDataGenerator(\n",
    "    rescale=1./255,                  # Normalize pixels\n",
    "    rotation_range=20,              # Random rotation\n",
    "    width_shift_range=0.1,          # Horizontal shift\n",
    "    height_shift_range=0.1,         # Vertical shift\n",
    "    shear_range=0.1,                # Shearing\n",
    "    zoom_range=0.1,                 # Random zoom\n",
    "    horizontal_flip=True,           # Random horizontal flip\n",
    "    vertical_flip = True,            # Random Vertical flip\n",
    "    brightness_range =[0.8, 1.2],  # Random Brightness\n",
    "    fill_mode='nearest'             # Filling strategy\n",
    ")\n"
   ]
  },
  {
   "cell_type": "code",
   "execution_count": null,
   "id": "3df5d799-66b3-411f-a133-9012c58eb944",
   "metadata": {},
   "outputs": [],
   "source": [
    "# Validation/Test: Only Rescaling (NO Augmentation)\n",
    "test_val_datagen = ImageDataGenerator(rescale=1./255)"
   ]
  },
  {
   "cell_type": "code",
   "execution_count": null,
   "id": "e2a2cf8c-55bd-4bdd-ab52-159b77f8dfa3",
   "metadata": {},
   "outputs": [],
   "source": [
    "# Load datasets\n",
    "train_generator = train_datagen.flow_from_directory(Train_Data_Dir,\n",
    "    target_size=Img_size,\n",
    "    batch_size=Batch_Size,\n",
    "    class_mode='categorical',\n",
    "    shuffle=True\n",
    ")\n",
    "\n",
    "val_generator = test_val_datagen.flow_from_directory(Val_Data_Dir,\n",
    "    target_size=Img_size,\n",
    "    batch_size=Batch_Size,\n",
    "    class_mode='categorical',\n",
    "    shuffle=False\n",
    ")\n",
    "\n",
    "test_generator = test_val_datagen.flow_from_directory(Test_Data_Dir,\n",
    "    target_size=Img_size,\n",
    "    batch_size=Batch_Size,\n",
    "    class_mode='categorical',\n",
    "    shuffle=False\n",
    ")"
   ]
  },
  {
   "cell_type": "code",
   "execution_count": null,
   "id": "b4ae40b9-14de-44e9-be34-e6717c5dd84c",
   "metadata": {},
   "outputs": [],
   "source": [
    "class_indices = train_generator.class_indices\n",
    "print(class_indices)"
   ]
  },
  {
   "cell_type": "markdown",
   "id": "cee3b0b3-482f-462b-aef0-82088e566256",
   "metadata": {},
   "source": [
    "# View augmented image before training"
   ]
  },
  {
   "cell_type": "code",
   "execution_count": null,
   "id": "f1e32746-dd6e-451b-9f9a-a680a1e3b956",
   "metadata": {},
   "outputs": [],
   "source": [
    "# Initialize the ImageDataGenerator with augmentations\n",
    "train_datagen = ImageDataGenerator(\n",
    "    rotation_range=40,            # Random rotation\n",
    "    width_shift_range=0.1,        # Horizontal shift\n",
    "    height_shift_range=0.1,       # Vertical shift\n",
    "    shear_range=20,               # Random shearing\n",
    "    zoom_range=0.2,               # Random zoom\n",
    "    horizontal_flip=True,         # Random horizontal flip\n",
    "    vertical_flip=True,           # Random vertical flip\n",
    "    brightness_range=[0.8, 1.2],  # Random brightness adjustment\n",
    "    fill_mode='nearest'           # Fill mode for empty pixels\n",
    ")\n",
    "\n",
    "# Load a sample image for augmentation (replace with your actual image path)\n",
    "image_path = 'C:/Users/OWNER/Downloads/SDS-CP028-smart-leaf_Project/SDS-CP028-smart-leaf/submissions/team-members/Samsudeen/Data/Train_Val_Test_Data/train/Wheat___Yellow_Rust/Yellow_rust973.jpg'  # Replace with the path to an actual image\n",
    "img = load_img(image_path, target_size=(224, 224))  # Load image and resize it to 224x224\n",
    "x = img_to_array(img)  # Convert image to numpy array\n",
    "x = np.expand_dims(x, axis=0)  # Add batch dimension\n",
    "\n",
    "# Create an iterator for the augmented image\n",
    "augmented_images = train_datagen.flow(x, batch_size=1)\n",
    "\n",
    "# Function to display a batch of augmented images\n",
    "def visualize_augmented_images(augmented_images, num_images=5):\n",
    "    fig, axes = plt.subplots(1, num_images, figsize=(20, 20))  # Customize number of images to display\n",
    "    for i in range(num_images):\n",
    "        batch = next(augmented_images)  # Get a batch of augmented images\n",
    "        ax = axes[i]\n",
    "        ax.imshow(batch[0].astype('uint8'))  # Display the augmented image\n",
    "        ax.axis('off')  # Hide axes for better visualization\n",
    "        ax.set_title(f'Augmented Image {i+1}')\n",
    "    plt.show()\n",
    "\n",
    "# Visualize 5 augmented images\n",
    "visualize_augmented_images(augmented_images, num_images=5)\n"
   ]
  },
  {
   "cell_type": "markdown",
   "id": "e9bb38e2-f288-40a6-8e52-fd2640b0eb67",
   "metadata": {},
   "source": [
    "# Inspecting a randomly augmented image"
   ]
  },
  {
   "cell_type": "code",
   "execution_count": null,
   "id": "8b0aecae-5feb-4d12-912e-be81e0bd14c3",
   "metadata": {},
   "outputs": [],
   "source": [
    "import os\n",
    "import random\n",
    "import numpy as np\n",
    "import matplotlib.pyplot as plt\n",
    "\n",
    "# Function to select a random image from a folder\n",
    "def get_random_image_from_folder(folder_path):\n",
    "    # List all files in the directory\n",
    "    all_images = [f for f in os.listdir(folder_path) if f.endswith(('.jpg', '.png', '.jpeg'))]  # Update extensions as needed\n",
    "    # Select a random image\n",
    "    random_image = random.choice(all_images)\n",
    "    # Construct the full path to the image\n",
    "    image_path = os.path.join(folder_path, random_image)\n",
    "    return image_path\n",
    "\n",
    "# Define the folder path (change this to your folder containing images)\n",
    "folder_path = 'C:/Users/OWNER/Downloads/SDS-CP028-smart-leaf_Project/SDS-CP028-smart-leaf/submissions/team-members/Samsudeen/Data/Train_Val_Test_Data/train/Wheat___Healthy'\n",
    "# Get a random image from the folder\n",
    "img_path = get_random_image_from_folder(folder_path)\n",
    "print(f\"Selected image path: {img_path}\")  # Print image path for verification\n",
    "\n",
    "# Load and display the image to verify it's being loaded correctly\n",
    "img = load_img(img_path, target_size=(224, 224))  # Resize to the desired input size (224x224)\n",
    "plt.imshow(img)\n",
    "plt.axis('off')  # Hide axes for better visualization\n",
    "plt.show()\n",
    "\n",
    "# Convert image to array\n",
    "x = img_to_array(img)\n",
    "x = np.expand_dims(x, axis=0)  # Add batch dimension\n",
    "\n",
    "# Initialize ImageDataGenerator with augmentations for visual inspection\n",
    "train_datagen = ImageDataGenerator(\n",
    "    rescale=1./255,                 # Normalize pixel values to [0, 1]\n",
    "    rotation_range=30,              # Random rotation (±30 degrees)\n",
    "    width_shift_range=0.1,          # Horizontal shift\n",
    "    height_shift_range=0.1,         # Vertical shift\n",
    "    shear_range=20,                 # Random shearing\n",
    "    zoom_range=0.2,                 # Random zoom\n",
    "    horizontal_flip=True,           # Random horizontal flip\n",
    "    vertical_flip=True,             # Random vertical flip\n",
    "    brightness_range=[0.8, 1.2],    # Random brightness adjustment\n",
    "    fill_mode='nearest'             # Fill mode for empty pixels\n",
    ")\n",
    "\n",
    "# Create an iterator for the augmented image\n",
    "augmented_images = train_datagen.flow(x, batch_size=1)\n",
    "\n",
    "# Function to display one image with 5 different augmentations\n",
    "def visualize_one_image_multiple_augmentations(augmented_images, num_images=4):\n",
    "    fig, axes = plt.subplots(1, num_images, figsize=(20, 20))  # Customize number of images to display\n",
    "    for i in range(num_images):\n",
    "        batch = next(augmented_images)  # Get a batch of augmented images\n",
    "        ax = axes[i]\n",
    "        ax.imshow(batch[0])  # Display the augmented image (no need to cast to uint8 here)\n",
    "        ax.axis('off')  # Hide axes for better visualization\n",
    "        ax.set_title(f'Augmentation {i+1}')\n",
    "    plt.show()\n",
    "\n",
    "# Visualize 4 different augmentations of the random image    \n",
    "visualize_one_image_multiple_augmentations(augmented_images, num_images=4)\n",
    "#visualize_original_and_augmentations(x[0], augmented_images)\n"
   ]
  },
  {
   "cell_type": "code",
   "execution_count": null,
   "id": "d7c74344-013e-4b6d-a370-ddc7ceac5ac8",
   "metadata": {},
   "outputs": [],
   "source": []
  },
  {
   "cell_type": "code",
   "execution_count": null,
   "id": "0700926e-2591-46d3-b2c6-228344748c8d",
   "metadata": {},
   "outputs": [],
   "source": []
  }
 ],
 "metadata": {
  "kernelspec": {
   "display_name": "Python 3 (ipykernel)",
   "language": "python",
   "name": "python3"
  },
  "language_info": {
   "codemirror_mode": {
    "name": "ipython",
    "version": 3
   },
   "file_extension": ".py",
   "mimetype": "text/x-python",
   "name": "python",
   "nbconvert_exporter": "python",
   "pygments_lexer": "ipython3",
   "version": "3.12.9"
  }
 },
 "nbformat": 4,
 "nbformat_minor": 5
}
