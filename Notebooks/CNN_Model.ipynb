{
 "cells": [
  {
   "cell_type": "code",
   "execution_count": null,
   "id": "8b393250-97a4-473f-ac92-8768eca8127e",
   "metadata": {},
   "outputs": [],
   "source": [
    "import matplotlib.pyplot as plt\n",
    "import numpy as np\n",
    "from tensorflow.keras.preprocessing import image\n",
    "from tensorflow.keras.preprocessing.image import ImageDataGenerator, load_img, img_to_array\n",
    "import tensorflow as tf\n",
    "from tensorflow.keras import layers, models\n",
    "from tensorflow.keras.layers import Conv2D, MaxPooling2D, Flatten, Dense, Dropout\n",
    "from tensorflow.keras.optimizers import Adam\n",
    "import os\n",
    "from sklearn.utils import class_weight\n",
    "from tensorflow.keras.callbacks import ReduceLROnPlateau, EarlyStopping, ModelCheckpoint, LearningRateScheduler\n",
    "from sklearn.utils.class_weight import compute_class_weight\n",
    "from tensorflow.keras.models import Sequential\n",
    "from sklearn.metrics import classification_report\n",
    "import seaborn as sns\n",
    "from sklearn.metrics import confusion_matrix, ConfusionMatrixDisplay"
   ]
  },
  {
   "cell_type": "code",
   "execution_count": null,
   "id": "767f8267-2d73-4109-b8ab-7e53c0206411",
   "metadata": {},
   "outputs": [],
   "source": [
    "# Define common parameters\n",
    "Img_size = (224, 224)\n",
    "Batch_Size = 32\n",
    "Train_Data_Dir = \"C:/Users/OWNER/Downloads/SDS-CP028-smart-leaf_Project/SDS-CP028-smart-leaf/submissions/team-members/Samsudeen/Data/Train_Val_Test_Data/train\"\n",
    "Val_Data_Dir = \"C:/Users/OWNER/Downloads/SDS-CP028-smart-leaf_Project/SDS-CP028-smart-leaf/submissions/team-members/Samsudeen/Data/Train_Val_Test_Data/val\"\n",
    "Test_Data_Dir = \"C:/Users/OWNER/Downloads/SDS-CP028-smart-leaf_Project/SDS-CP028-smart-leaf/submissions/team-members/Samsudeen/Data/Train_Val_Test_Data/test\""
   ]
  },
  {
   "cell_type": "markdown",
   "id": "cd454ffc-fd2d-436a-bc30-6c04112ab7bb",
   "metadata": {},
   "source": [
    "# Data Augmentation for Training"
   ]
  },
  {
   "cell_type": "code",
   "execution_count": null,
   "id": "dfd67dd4-3612-40ab-9811-c3cae6f5f9a6",
   "metadata": {},
   "outputs": [],
   "source": [
    "\n",
    "train_datagen = ImageDataGenerator(\n",
    "    rescale=1./255,                  # Normalize pixels\n",
    "    rotation_range=20,              # Random rotation\n",
    "    width_shift_range=0.1,          # Horizontal shift\n",
    "    height_shift_range=0.1,         # Vertical shift\n",
    "    shear_range=0.1,                # Shearing\n",
    "    zoom_range=0.1,                 # Random zoom\n",
    "    horizontal_flip=True,           # Random horizontal flip\n",
    "    vertical_flip = True,            # Random Vertical flip\n",
    "    brightness_range =[0.8, 1.2],  # Random Brightness\n",
    "    fill_mode='nearest'             # Filling strategy\n",
    ")\n"
   ]
  },
  {
   "cell_type": "code",
   "execution_count": null,
   "id": "3df5d799-66b3-411f-a133-9012c58eb944",
   "metadata": {},
   "outputs": [],
   "source": [
    "# Validation/Test: Only Rescaling (NO Augmentation)\n",
    "test_val_datagen = ImageDataGenerator(rescale=1./255)"
   ]
  },
  {
   "cell_type": "code",
   "execution_count": null,
   "id": "e2a2cf8c-55bd-4bdd-ab52-159b77f8dfa3",
   "metadata": {},
   "outputs": [],
   "source": [
    "# Load datasets\n",
    "train_generator = train_datagen.flow_from_directory(Train_Data_Dir,\n",
    "    target_size=Img_size,\n",
    "    batch_size=Batch_Size,\n",
    "    class_mode='categorical',\n",
    "    shuffle=True\n",
    ")\n",
    "\n",
    "val_generator = test_val_datagen.flow_from_directory(Val_Data_Dir,\n",
    "    target_size=Img_size,\n",
    "    batch_size=Batch_Size,\n",
    "    class_mode='categorical',\n",
    "    shuffle=False\n",
    ")\n",
    "\n",
    "test_generator = test_val_datagen.flow_from_directory(Test_Data_Dir,\n",
    "    target_size=Img_size,\n",
    "    batch_size=Batch_Size,\n",
    "    class_mode='categorical',\n",
    "    shuffle=False\n",
    ")"
   ]
  },
  {
   "cell_type": "code",
   "execution_count": null,
   "id": "b4ae40b9-14de-44e9-be34-e6717c5dd84c",
   "metadata": {},
   "outputs": [],
   "source": [
    "class_indices = train_generator.class_indices\n",
    "print(class_indices)"
   ]
  },
  {
   "cell_type": "markdown",
   "id": "e274c3ed-128a-4b11-9e19-1f7fd3ed2f21",
   "metadata": {},
   "source": [
    "# Calculate class weights"
   ]
  },
  {
   "cell_type": "code",
   "execution_count": null,
   "id": "b5a65081-08b2-4a49-bbb9-e0b2ed433ad6",
   "metadata": {},
   "outputs": [],
   "source": [
    "\n",
    "class_weights = compute_class_weight(\n",
    "    \"balanced\", \n",
    "    classes = np.unique(train_generator.classes),\n",
    "    y =train_generator.classes\n",
    ")\n",
    "class_weight_dict = dict(zip(np.unique(train_generator.classes), class_weights))\n",
    "print(f\"Class weights: {class_weight_dict}\")"
   ]
  },
  {
   "cell_type": "markdown",
   "id": "e43a7738-c6c0-4c62-9580-457a7f65aa52",
   "metadata": {},
   "source": [
    "# Define the CNN Model"
   ]
  },
  {
   "cell_type": "code",
   "execution_count": null,
   "id": "83a145a1-72db-4d0b-bbe5-ece2344a56e9",
   "metadata": {},
   "outputs": [],
   "source": [
    "model = Sequential([\n",
    "    Conv2D(32, (3, 3), activation='relu', input_shape=(224, 224, 3)),\n",
    "    MaxPooling2D(2, 2),\n",
    "    \n",
    "    Conv2D(64, (3, 3), activation='relu'),\n",
    "    MaxPooling2D(2, 2),\n",
    "    \n",
    "    Conv2D(128, (3, 3), activation='relu'),\n",
    "    MaxPooling2D(2, 2),\n",
    "    \n",
    "    Flatten(),\n",
    "    # Change to 256\n",
    "    Dense(512, activation='relu'),\n",
    "    Dropout(0.3),\n",
    "    \n",
    "    Dense(14, activation='softmax')  # 14 classes for classification\n",
    "])"
   ]
  },
  {
   "cell_type": "markdown",
   "id": "374f80aa-34c8-4a55-8b4d-334ffef1e129",
   "metadata": {},
   "source": [
    "## Compile the model"
   ]
  },
  {
   "cell_type": "code",
   "execution_count": null,
   "id": "075998c4-63f7-4180-9f6e-41f2732dfb5a",
   "metadata": {},
   "outputs": [],
   "source": [
    "model.compile(\n",
    "    optimizer=Adam(),\n",
    "    loss='categorical_crossentropy',  # For multi-class classification\n",
    "    metrics=['accuracy']\n",
    ")"
   ]
  },
  {
   "cell_type": "markdown",
   "id": "238ef112-8661-4936-9e15-e819fd6d546e",
   "metadata": {},
   "source": [
    "# Define callbacks: EarlyStopping and ModelCheckpoint"
   ]
  },
  {
   "cell_type": "code",
   "execution_count": null,
   "id": "9daba8cf-fae2-4df7-89bb-39a75b2b2f17",
   "metadata": {},
   "outputs": [],
   "source": [
    "early_stop = EarlyStopping(monitor='val_loss', patience=3, restore_best_weights=True)\n",
    "checkpoint = ModelCheckpoint('best_model.h5', save_best_only=True, monitor='val_loss', mode='min')"
   ]
  },
  {
   "cell_type": "markdown",
   "id": "86949603-d118-4c31-968d-32a09708de6b",
   "metadata": {},
   "source": [
    "## Train the model"
   ]
  },
  {
   "cell_type": "code",
   "execution_count": null,
   "id": "f895990b-6da5-4758-a8c7-fad46ac136a2",
   "metadata": {},
   "outputs": [],
   "source": [
    "\n",
    "history = model.fit(\n",
    "    train_generator,\n",
    "    steps_per_epoch=train_generator.samples // train_generator.batch_size,\n",
    "    epochs=10,  # Adjust the number of epochs as needed\n",
    "    validation_data=val_generator,\n",
    "    validation_steps=val_generator.samples // val_generator.batch_size,\n",
    "    class_weight = class_weight_dict,  # Apply class weights to handle class imbalance\n",
    "    callbacks=[early_stop, checkpoint]\n",
    ")"
   ]
  },
  {
   "cell_type": "markdown",
   "id": "195b5edd-6a3b-4264-910e-ff17219d17b9",
   "metadata": {},
   "source": [
    "# Plotting the training and validation loss"
   ]
  },
  {
   "cell_type": "code",
   "execution_count": null,
   "id": "fcbfc5eb-378e-4abf-8a71-e08ea74c280b",
   "metadata": {},
   "outputs": [],
   "source": [
    "\n",
    "plt.figure(figsize=(12, 6))\n",
    "\n",
    "# Plot training loss\n",
    "plt.subplot(1, 2, 1)\n",
    "plt.plot(history.history['loss'], label='Training Loss')\n",
    "plt.plot(history.history['val_loss'], label='Validation Loss')\n",
    "plt.title('Training and Validation Loss')\n",
    "plt.xlabel('Epochs')\n",
    "plt.ylabel('Loss')\n",
    "plt.legend()"
   ]
  },
  {
   "cell_type": "markdown",
   "id": "aa9def45-a6f9-4287-b6cf-31c8da3bd82a",
   "metadata": {},
   "source": [
    "# Plot training accuracy"
   ]
  },
  {
   "cell_type": "code",
   "execution_count": null,
   "id": "c919470f-3df2-459f-80e4-d54d8213f009",
   "metadata": {},
   "outputs": [],
   "source": [
    "plt.subplot(1, 2, 2)\n",
    "plt.plot(history.history['accuracy'], label='Training Accuracy')\n",
    "plt.plot(history.history['val_accuracy'], label='Validation Accuracy')\n",
    "plt.title('Training and Validation Accuracy')\n",
    "plt.xlabel('Epochs')\n",
    "plt.ylabel('Accuracy')\n",
    "plt.legend()\n",
    "\n",
    "# Display the plots\n",
    "plt.tight_layout()\n",
    "plt.show()"
   ]
  },
  {
   "cell_type": "code",
   "execution_count": null,
   "id": "191ab854-06a0-449c-ab6c-e04741a2ddce",
   "metadata": {},
   "outputs": [],
   "source": [
    "# Save the final model\n",
    "model.save('final_model.h5')\n",
    "\n",
    "print(\"Model training complete and saved!\")"
   ]
  },
  {
   "cell_type": "markdown",
   "id": "246cc0e1-7ede-47e8-8d20-c1a5a4e68777",
   "metadata": {},
   "source": [
    "# Hyperparameter Tuning"
   ]
  },
  {
   "cell_type": "code",
   "execution_count": null,
   "id": "f80d556c-fe8a-4053-99e4-1626ecf257cd",
   "metadata": {},
   "outputs": [],
   "source": [
    "!pip install keras-tuner"
   ]
  },
  {
   "cell_type": "code",
   "execution_count": null,
   "id": "d5466781-2b1a-4ea3-9ec2-f4c54a8ebcb5",
   "metadata": {},
   "outputs": [],
   "source": [
    "import keras_tuner as kt"
   ]
  },
  {
   "cell_type": "code",
   "execution_count": null,
   "id": "4d26d33f-4806-4e67-b550-5b872087fb94",
   "metadata": {},
   "outputs": [],
   "source": [
    "# Define the model-building function\n",
    "def build_model(hp):\n",
    "    model = Sequential()\n",
    "\n",
    "    # Hyperparameter tuning for the number of filters and kernel size in Conv2D layers\n",
    "    model.add(layers.Conv2D(filters=hp.Int('conv_1_filters', min_value=32, max_value=128, step=32),\n",
    "                            kernel_size=hp.Choice('conv_1_kernel', values=[3, 5]),\n",
    "                            activation='relu',\n",
    "                            input_shape=(224, 224, 3)))\n",
    "    model.add(layers.MaxPooling2D(pool_size=(2, 2)))\n",
    "    \n",
    "    # Add second Conv2D layer\n",
    "    model.add(layers.Conv2D(filters=hp.Int('conv_2_filters', min_value=32, max_value=128, step=32),\n",
    "                            kernel_size=hp.Choice('conv_2_kernel', values=[3, 5]),\n",
    "                            activation='relu'))\n",
    "    model.add(layers.MaxPooling2D(pool_size=(2, 2)))\n",
    "\n",
    "    # Flatten layer\n",
    "    model.add(layers.Flatten())\n",
    "\n",
    "    # Hyperparameter tuning for the number of units in Dense layer\n",
    "    model.add(layers.Dense(units=hp.Int('dense_units', min_value=64, max_value=512, step=64), activation='relu'))\n",
    "    \n",
    "    # Dropout layer\n",
    "    model.add(layers.Dropout(rate=hp.Float('dropout_rate', min_value=0.2, max_value=0.5, step=0.1)))\n",
    "    \n",
    "    # Output layer\n",
    "    model.add(layers.Dense(14, activation='softmax'))  # 14 classes for classification\n",
    "\n",
    "    # Hyperparameter tuning for the learning rate of Adam optimizer\n",
    "    model.compile(optimizer=Adam(learning_rate=hp.Float('learning_rate', min_value=1e-4, max_value=1e-2, sampling='LOG')),\n",
    "                  loss='categorical_crossentropy',\n",
    "                  metrics=['accuracy'])\n",
    "    \n",
    "    return model"
   ]
  },
  {
   "cell_type": "code",
   "execution_count": null,
   "id": "1347351a-aaca-40b8-8db5-0ec1359d5780",
   "metadata": {},
   "outputs": [],
   "source": [
    "from keras_tuner import Hyperband\n",
    "\n",
    "# Set up Hyperband search\n",
    "tuner = Hyperband(\n",
    "    build_model,\n",
    "    objective='val_accuracy',  # Optimize validation accuracy\n",
    "    max_epochs=10,  # Max epochs per trial\n",
    "    factor=3,  # Factor for Hyperband's exploration\n",
    "    directory='my_dir',  # Directory to store the results\n",
    "    project_name='hyperparameter_tuning'\n",
    ")\n",
    "\n",
    "# Perform hyperparameter search\n",
    "tuner.search(train_generator, validation_data=val_generator, epochs=10)\n"
   ]
  },
  {
   "cell_type": "code",
   "execution_count": null,
   "id": "790ef1ec-65fd-4154-af46-505a23634a06",
   "metadata": {},
   "outputs": [],
   "source": [
    "# Get the best hyperparameters\n",
    "best_hps = tuner.oracle.get_best_trials(num_trials=1)[0].hyperparameters\n",
    "\n",
    "# Print the best hyperparameters\n",
    "print(f\"Best hyperparameters: {best_hps.values}\")\n"
   ]
  },
  {
   "cell_type": "code",
   "execution_count": null,
   "id": "2b4e077a-d4f5-4f4e-85e4-4c0b96139759",
   "metadata": {},
   "outputs": [],
   "source": [
    "# Build the model with the best hyperparameters\n",
    "model = tuner.hypermodel.build(best_hps)\n",
    "\n",
    "# Train the model\n",
    "history = model.fit(train_generator, validation_data=val_generator, epochs=10)\n"
   ]
  },
  {
   "cell_type": "code",
   "execution_count": null,
   "id": "aaaf69f7-efbf-4705-8d91-054bd4582516",
   "metadata": {},
   "outputs": [],
   "source": [
    "#model.save('Optimised_model.h5')\n",
    "#model.save('my_model.h5') or keras.saving.save_model(model, 'my_model.h5')\n",
    "model.save('Optimise_CNN.keras') #or keras.saving.save_model(model, 'Optimise_CNN.keras')"
   ]
  },
  {
   "cell_type": "code",
   "execution_count": null,
   "id": "8a03777b-00be-4900-9fda-49b936b04cee",
   "metadata": {},
   "outputs": [],
   "source": [
    "pip install keras"
   ]
  },
  {
   "cell_type": "code",
   "execution_count": null,
   "id": "492e6e07-5753-4754-91c2-94dfda7eb502",
   "metadata": {},
   "outputs": [],
   "source": [
    "import keras"
   ]
  },
  {
   "cell_type": "code",
   "execution_count": null,
   "id": "44733c76-24bc-493c-830e-680083a5efcf",
   "metadata": {},
   "outputs": [],
   "source": [
    "# Load the best model saved during training\n",
    "#best_model = tf.keras.models.load_model('Optimised_model.h5')\n",
    "loaded_model = keras.models.load_model('Optimise_CNN.keras')"
   ]
  },
  {
   "cell_type": "code",
   "execution_count": null,
   "id": "26e856dc-a862-4a1f-9f3a-9fe6d2505d4b",
   "metadata": {},
   "outputs": [],
   "source": [
    "# Get the class indices mapping\n",
    "class_indices = test_generator.class_indices\n",
    "inverted_class_indices = {v: k for k, v in class_indices.items()}\n",
    "\n",
    "print(\"Attempting to display an image with its name and model prediction...\")\n",
    "\n",
    "try:\n",
    "    # 1. Get a batch of data and filenames from the test_generator\n",
    "    sample_data = next(iter(test_generator))\n",
    "    filenames = test_generator.filenames[test_generator.batch_index * test_generator.batch_size :\n",
    "                                         (test_generator.batch_index + 1) * test_generator.batch_size]\n",
    "\n",
    "    # 2. Extract images\n",
    "    if isinstance(sample_data, tuple) and len(sample_data) == 2:\n",
    "        input_images, true_labels = sample_data\n",
    "    else:\n",
    "        input_images = sample_data\n",
    "        true_labels = None\n",
    "\n",
    "    if input_images.size > 0:\n",
    "        # 3. Select the first image in the batch\n",
    "        image_to_display_original = input_images[0]\n",
    "        filename = filenames[0]\n",
    "\n",
    "        # 4. Preprocess for display\n",
    "        image_to_display = (image_to_display_original * 255).astype(np.uint8)\n",
    "        if image_to_display.shape[-1] == 1 and image_to_display.ndim == 3:\n",
    "            image_to_display = image_to_display.squeeze(axis=-1)\n",
    "\n",
    "        # 5. Make a prediction\n",
    "        # Expand dimensions to create a batch of size 1\n",
    "        img_expanded = np.expand_dims(image_to_display_original, axis=0)\n",
    "        predictions = loaded_model.predict(img_expanded)\n",
    "        predicted_class_index = np.argmax(predictions[0])\n",
    "        predicted_class_name = inverted_class_indices.get(predicted_class_index, \"Unknown\")\n",
    "\n",
    "        # Get the true label name if available\n",
    "        true_class_name = \"N/A\"\n",
    "        if true_labels is not None:\n",
    "            true_class_index = np.argmax(true_labels[0])\n",
    "            true_class_name = inverted_class_indices.get(true_class_index, \"Unknown\")\n",
    "\n",
    "        # 6. Display the image with filename, true label, and prediction\n",
    "        plt.figure(figsize=(6, 6))\n",
    "        plt.imshow(image_to_display, cmap='gray' if image_to_display.ndim == 2 else None)\n",
    "        title = f\"Filename: {filename}\\nTrue Label: {true_class_name}\\nPrediction: {predicted_class_name}\"\n",
    "        plt.title(title)\n",
    "        plt.axis(\"off\")\n",
    "        plt.show()\n",
    "\n",
    "        # Reset the generator to the beginning for the evaluation loop\n",
    "        test_generator.reset()\n",
    "\n",
    "    else:\n",
    "        print(\"The test_generator yielded an empty batch, cannot display an image.\")\n",
    "\n",
    "except StopIteration:\n",
    "    print(\"The test_generator is exhausted or empty. Cannot fetch a sample image.\")\n",
    "    print(\"You might need to reset your generator if it has been fully iterated through (e.g., test_generator.reset()).\")\n",
    "except Exception as e:\n",
    "    print(f\"An error occurred while trying to display the image: {e}\")\n",
    "    print(\"Please ensure your test_generator yields data in the expected format (e.g., NumPy arrays).\")\n",
    "    print(\"Also, double-check image dimensions and all preprocessing steps for plt.imshow(), especially denormalization.\")\n",
    "\n",
    "print(\"\\nProceeding with model evaluation on the test set...\")\n",
    "\n",
    "# Evaluate the model on the test set\n",
    "if 'loaded_model' in locals():\n",
    "    test_loss, test_acc = loaded_model.evaluate(test_generator, steps=test_generator.samples // test_generator.batch_size)\n",
    "    print(f\"Test Loss: {test_loss}\")\n",
    "    print(f\"Test Accuracy: {test_acc}\")\n",
    "else:\n",
    "    print(\"Warning: 'loaded_model' not found, skipping evaluation.\")"
   ]
  },
  {
   "cell_type": "markdown",
   "id": "560b27ad-3b7a-44c3-a5db-38b0783232e1",
   "metadata": {},
   "source": [
    "# Classification report"
   ]
  },
  {
   "cell_type": "code",
   "execution_count": null,
   "id": "ac3bdd2f-4bd3-46c4-9931-a0ac94521fd9",
   "metadata": {},
   "outputs": [],
   "source": [
    "# Get true labels\n",
    "y_true = test_generator.classes  # class indices from the generator\n",
    "\n",
    "# Get class names\n",
    "class_names = list(test_generator.class_indices.keys())\n",
    "\n",
    "# Get predictions\n",
    "y_pred_probs = best_model.predict(test_generator, steps=test_generator.samples // test_generator.batch_size + 1)\n",
    "y_pred = np.argmax(y_pred_probs, axis=1)\n",
    "\n",
    "# Print classification report\n",
    "print(classification_report(y_true, y_pred, target_names=class_names))\n"
   ]
  },
  {
   "cell_type": "markdown",
   "id": "0d52668d-7da7-4de6-80b4-ad103982a524",
   "metadata": {},
   "source": [
    "# Confusion Matrix"
   ]
  },
  {
   "cell_type": "code",
   "execution_count": null,
   "id": "1342c3a1-ab06-4f68-9ddc-d1296bb4feb8",
   "metadata": {},
   "outputs": [],
   "source": [
    "# 1. True labels (from the generator)\n",
    "y_true = test_generator.classes\n",
    "\n",
    "# 2. Predicted labels\n",
    "y_pred_probs = best_model.predict(test_generator, steps=test_generator.samples // test_generator.batch_size + 1)\n",
    "y_pred = np.argmax(y_pred_probs, axis=1)\n",
    "\n",
    "# 3. Class labels\n",
    "class_names = list(test_generator.class_indices.keys())\n",
    "\n",
    "# 4. Confusion matrix\n",
    "cm = confusion_matrix(y_true, y_pred)\n",
    "\n",
    "# 5. Plot the confusion matrix\n",
    "plt.figure(figsize=(8, 6))\n",
    "sns.heatmap(cm, annot=True, fmt='d', cmap='Blues',\n",
    "            xticklabels=class_names, yticklabels=class_names)\n",
    "plt.xlabel('Predicted')\n",
    "plt.ylabel('True')\n",
    "plt.title('Confusion Matrix')\n",
    "plt.tight_layout()\n",
    "plt.show()\n"
   ]
  }
 ],
 "metadata": {
  "kernelspec": {
   "display_name": "Python 3 (ipykernel)",
   "language": "python",
   "name": "python3"
  },
  "language_info": {
   "codemirror_mode": {
    "name": "ipython",
    "version": 3
   },
   "file_extension": ".py",
   "mimetype": "text/x-python",
   "name": "python",
   "nbconvert_exporter": "python",
   "pygments_lexer": "ipython3",
   "version": "3.12.9"
  }
 },
 "nbformat": 4,
 "nbformat_minor": 5
}
