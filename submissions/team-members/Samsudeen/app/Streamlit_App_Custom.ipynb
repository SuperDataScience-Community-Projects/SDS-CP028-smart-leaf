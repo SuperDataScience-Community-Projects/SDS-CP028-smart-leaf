{
 "cells": [
  {
   "cell_type": "code",
   "execution_count": null,
   "id": "c65a3cc5-b4ac-4dd6-84c1-816b33024c3c",
   "metadata": {},
   "outputs": [],
   "source": [
    "import streamlit as st\n",
    "from tensorflow.keras.models import load_model\n",
    "from tensorflow.keras.preprocessing import image\n",
    "import numpy as np\n",
    "from PIL import Image\n",
    "import os\n",
    "\n",
    "# Load the trained model (replace with the path to your model)\n",
    "model = load_model('best_model.h6')\n",
    "\n",
    "# Define your class names (or use train_generator.class_indices to dynamically load if available)\n",
    "# For 14 classes, ensure the class names are in the same order as in your training data\n",
    "class_names = ['Wheat___Yellow_Rust', 'Wheat___Brown_Rust', 'Wheat___Healthy', 'Rice___Neck_Blast', 'Rice___Leaf_Blast', 'Rice___Brown_Spot', 'Rice___Healthy', 'Potato___Late_Blight', 'Potato___Healthy', 'Potato___Early_Blight', 'Corn___Northern_Leaf_Blight', 'Corn___Gray_Leaf_Spot', 'Corn___Healthy', 'Corn___Common_Rust']\n",
    "\n",
    "# Streamlit app title\n",
    "st.title('SmartLeaf: Crop Disease Classification App')\n",
    "\n",
    "# File uploader to upload images\n",
    "uploaded_file = st.file_uploader(\"Choose an image...\", type=['png', 'jpg', 'jpeg'])\n",
    "\n",
    "if uploaded_file is not None:\n",
    "    # Open and display the image\n",
    "    img = Image.open(uploaded_file)\n",
    "    st.image(img, caption='Uploaded Image', use_column_width=True)\n",
    "\n",
    "    # Preprocess the image: resize and normalize\n",
    "    img = img.resize((224, 224))  # Resize to the same size the model was trained on\n",
    "    img_array = np.array(img) / 255.0  # Rescale pixel values to [0, 1]\n",
    "    img_array = np.expand_dims(img_array, axis=0)  # Add batch dimension\n",
    "\n",
    "    # Predict the class of the uploaded image\n",
    "    predictions = model.predict(img_array)\n",
    "    predicted_class = class_names[np.argmax(predictions)]  # Get the class with the highest prediction probability\n",
    "\n",
    "    # Display the prediction\n",
    "    st.write(f'Predicted Class: {predicted_class}')\n"
   ]
  }
 ],
 "metadata": {
  "kernelspec": {
   "display_name": "Python 3 (ipykernel)",
   "language": "python",
   "name": "python3"
  },
  "language_info": {
   "codemirror_mode": {
    "name": "ipython",
    "version": 3
   },
   "file_extension": ".py",
   "mimetype": "text/x-python",
   "name": "python",
   "nbconvert_exporter": "python",
   "pygments_lexer": "ipython3",
   "version": "3.12.9"
  }
 },
 "nbformat": 4,
 "nbformat_minor": 5
}
