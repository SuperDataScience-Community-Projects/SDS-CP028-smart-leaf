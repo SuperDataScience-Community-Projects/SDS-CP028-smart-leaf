{
 "cells": [
  {
   "cell_type": "code",
   "execution_count": 1,
   "id": "d2c4b8cb-e82b-4073-a6fc-52a2b7a4cca6",
   "metadata": {},
   "outputs": [],
   "source": [
    "import os\n",
    "import shutil"
   ]
  },
  {
   "cell_type": "code",
   "execution_count": 2,
   "id": "c3a08331-e995-4330-add8-90144f278472",
   "metadata": {},
   "outputs": [],
   "source": [
    "# Original path where data is stored\n",
    "source_dir = \"C:/Users/OWNER/Downloads/SDS-CP028-smart-leaf/submissions/team-members/Samsudeen/CropDiseaseData\" # the current root folder\n",
    "target_dir = \"C:/Users/OWNER/Downloads/SDS-CP028-smart-leaf/submissions/team-members/Samsudeen/CropDiseaseClasses\"  # new root with 14 class folders\n",
    "os.makedirs(target_dir, exist_ok=True)"
   ]
  },
  {
   "cell_type": "code",
   "execution_count": 3,
   "id": "d835770a-9607-406c-9db9-652d17c6024f",
   "metadata": {},
   "outputs": [],
   "source": [
    "# Loop through 4 crop folders\n",
    "for crop in os.listdir(source_dir):\n",
    "    crop_path = os.path.join(source_dir, crop)\n",
    "    if not os.path.isdir(crop_path):\n",
    "        continue\n",
    "\n",
    "    # Inside each crop folder, move each disease class\n",
    "    for disease in os.listdir(crop_path):\n",
    "        disease_path = os.path.join(crop_path, disease)\n",
    "        if not os.path.isdir(disease_path):\n",
    "            continue\n",
    "        # Create a new destination for each disease\n",
    "        target_class_dir = os.path.join(target_dir, disease)\n",
    "        os.makedirs(target_class_dir, exist_ok=True)\n",
    "        # Move all image files to the flattened structure\n",
    "        for img_file in os.listdir(disease_path):\n",
    "            src = os.path.join(disease_path, img_file)\n",
    "            dst = os.path.join(target_class_dir, img_file)\n",
    "            # Ensure no filename clashes\n",
    "            if os.path.exists(dst):\n",
    "                base, ext = os.path.splitext(img_file)\n",
    "                new_name = f\"{base}_{crop}{ext}\"\n",
    "                dst = os.path.join(target_class_dir, new_name)\n",
    "            shutil.copy2(src, dst)\n"
   ]
  }
 ],
 "metadata": {
  "kernelspec": {
   "display_name": "Python 3 (ipykernel)",
   "language": "python",
   "name": "python3"
  },
  "language_info": {
   "codemirror_mode": {
    "name": "ipython",
    "version": 3
   },
   "file_extension": ".py",
   "mimetype": "text/x-python",
   "name": "python",
   "nbconvert_exporter": "python",
   "pygments_lexer": "ipython3",
   "version": "3.12.9"
  }
 },
 "nbformat": 4,
 "nbformat_minor": 5
}
