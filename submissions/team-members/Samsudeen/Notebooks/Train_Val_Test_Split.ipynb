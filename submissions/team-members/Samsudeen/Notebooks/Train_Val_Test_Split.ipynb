{
 "cells": [
  {
   "cell_type": "code",
   "execution_count": null,
   "id": "fb052798-22bf-4b58-a42b-f02df7a39191",
   "metadata": {},
   "outputs": [],
   "source": [
    "import os\n",
    "import shutil\n",
    "import random\n",
    "from pathlib import Path\n",
    "\n",
    "data_dir = \"C:/Users/OWNER/Downloads/SDS-CP028-smart-leaf/submissions/team-members/Samsudeen/CropDiseaseClasses\"\n",
    "dest_dir = \"C:/Users/OWNER/Downloads/SDS-CP028-smart-leaf/submissions/team-members/Samsudeen/TrainValTestDir\"\n",
    "split_ratios = (0.8, 0.1, 0.1)  # train, val, test\n",
    "\n",
    "# Set seed for reproducibility\n",
    "random.seed(42)\n",
    "\n",
    "# Create output directories\n",
    "for split in ['train', 'val', 'test']:\n",
    "    for class_name in os.listdir(data_dir):\n",
    "        src = os.path.join(data_dir, class_name)\n",
    "        dst = os.path.join(dest_dir, split, class_name)\n",
    "        os.makedirs(dst, exist_ok=True)\n",
    "\n",
    "# Perform the split and copy files\n",
    "for class_name in os.listdir(data_dir):\n",
    "    class_path = os.path.join(data_dir, class_name)\n",
    "    if not os.path.isdir(class_path):\n",
    "        continue\n",
    "\n",
    "    images = os.listdir(class_path)\n",
    "    random.shuffle(images)\n",
    "\n",
    "    total = len(images)\n",
    "    train_end = int(split_ratios[0] * total)\n",
    "    val_end = train_end + int(split_ratios[1] * total)\n",
    "\n",
    "    train_files = images[:train_end]\n",
    "    val_files = images[train_end:val_end]\n",
    "    test_files = images[val_end:]\n",
    "    for file_list, split in zip([train_files, val_files, test_files], ['train', 'val', 'test']):\n",
    "        for file in file_list:\n",
    "            src_path = os.path.join(class_path, file)\n",
    "            dst_path = os.path.join(dest_dir, split, class_name, file)\n",
    "            shutil.copy2(src_path, dst_path)\n",
    "print(\"Dataset successfully split into 80% train, 10% val, 10% test.\")\n"
   ]
  }
 ],
 "metadata": {
  "kernelspec": {
   "display_name": "Python 3 (ipykernel)",
   "language": "python",
   "name": "python3"
  },
  "language_info": {
   "codemirror_mode": {
    "name": "ipython",
    "version": 3
   },
   "file_extension": ".py",
   "mimetype": "text/x-python",
   "name": "python",
   "nbconvert_exporter": "python",
   "pygments_lexer": "ipython3",
   "version": "3.12.9"
  }
 },
 "nbformat": 4,
 "nbformat_minor": 5
}
