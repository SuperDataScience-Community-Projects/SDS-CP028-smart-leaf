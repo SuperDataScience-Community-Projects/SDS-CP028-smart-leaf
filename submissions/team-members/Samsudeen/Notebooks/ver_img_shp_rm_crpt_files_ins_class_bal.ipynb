{
 "cells": [
  {
   "cell_type": "code",
   "execution_count": null,
   "id": "364ed8a7-3124-4bd2-97c7-b5c421df4df9",
   "metadata": {},
   "outputs": [],
   "source": [
    "!pip install matplotlib"
   ]
  },
  {
   "cell_type": "code",
   "execution_count": null,
   "id": "7cb14dbd-5379-42c1-9f2f-e3fd136b9c5f",
   "metadata": {},
   "outputs": [],
   "source": [
    "import os\n",
    "import matplotlib.pyplot as plt\n",
    "from PIL import Image, UnidentifiedImageError\n",
    "import numpy as np\n",
    "from collections import defaultdict"
   ]
  },
  {
   "cell_type": "code",
   "execution_count": null,
   "id": "be0468fd-d2bb-4986-aef7-1419ebc8db07",
   "metadata": {},
   "outputs": [],
   "source": [
    "data_dir = \"C:/Users/OWNER/Downloads/SDS-CP028-smart-leaf/submissions/team-members/Samsudeen/CropDiseaseClasses\"\n",
    "shapes = []\n",
    "class_counts = defaultdict(int)\n",
    "removed = []"
   ]
  },
  {
   "cell_type": "code",
   "execution_count": null,
   "id": "41025156-8cf5-4c83-b5a1-18bea59c417c",
   "metadata": {},
   "outputs": [],
   "source": [
    "print(\"🔍 Verifying image shapes and removing corrupted files...\\n\")\n",
    "\n",
    "for class_name in sorted(os.listdir(data_dir)):\n",
    "    class_path = os.path.join(data_dir, class_name)\n",
    "    if not os.path.isdir(class_path):\n",
    "        continue\n",
    "\n",
    "    for filename in os.listdir(class_path):\n",
    "        filepath = os.path.join(class_path, filename)\n",
    "\n",
    "        try:\n",
    "            with Image.open(filepath) as img:\n",
    "                img.verify()  # check for corruption\n",
    "\n",
    "            with Image.open(filepath) as img_check:\n",
    "                img_check = img_check.convert(\"RGB\")  # ensure RGB\n",
    "                np_img = np.array(img_check)\n",
    "                shape = np_img.shape  # (height, width, channels)\n",
    "                shapes.append((filepath, shape))\n",
    "                print(f\"{filepath} — Shape: {shape}\")  # example: (224, 224, 3)\n",
    "\n",
    "                class_counts[class_name] += 1\n",
    "\n",
    "        except (UnidentifiedImageError, OSError, ValueError):\n",
    "            print(f\"❌ Removing corrupted file: {filepath}\")\n",
    "            os.remove(filepath)\n",
    "            removed.append(filepath)\n"
   ]
  },
  {
   "cell_type": "code",
   "execution_count": null,
   "id": "243dcbd6-5977-4f68-9a23-a7ec80a1f8fa",
   "metadata": {},
   "outputs": [],
   "source": [
    "print(\"\\n✅ Done checking.\")\n",
    "print(f\"🧹 Removed corrupted files: {len(removed)}\")\n",
    "\n",
    "# Optional: print shape summary\n",
    "print(\"\\n📏 Unique image shapes found:\")\n",
    "unique_shapes = set(shape for _, shape in shapes)\n",
    "for shape in unique_shapes:\n",
    "    count = sum(1 for _, s in shapes if s == shape)\n",
    "    print(f\"{shape}: {count} images\")"
   ]
  },
  {
   "cell_type": "code",
   "execution_count": null,
   "id": "b0c4c993-8ec0-46f1-a489-c5c0fa75c830",
   "metadata": {},
   "outputs": [],
   "source": [
    "# Optional: display class counts\n",
    "print(\"\\n📊 Class image counts:\")\n",
    "for cls, count in class_counts.items():\n",
    "    print(f\"{cls}: {count}\")"
   ]
  },
  {
   "cell_type": "code",
   "execution_count": null,
   "id": "65240989-b9fc-47b3-aace-9ea6e27927dd",
   "metadata": {},
   "outputs": [],
   "source": [
    "# Plot class distribution\n",
    "plt.figure(figsize=(12, 6))\n",
    "plt.bar(class_counts.keys(), class_counts.values(), color='teal')\n",
    "plt.title(\"Crop Disease Distribution\")\n",
    "plt.xticks(rotation=45)\n",
    "plt.ylabel(\"Number of Images\")\n",
    "plt.tight_layout()\n",
    "plt.show()\n"
   ]
  },
  {
   "cell_type": "code",
   "execution_count": null,
   "id": "afd45393-7c6a-4240-acd0-95bb767195a4",
   "metadata": {},
   "outputs": [],
   "source": [
    "# Save the figure\n",
    "# Plot class distribution\n",
    "plt.figure(figsize=(12, 6))\n",
    "plt.bar(class_counts.keys(), class_counts.values(), color='teal')\n",
    "plt.title(\"Crop Disease Distribution\")\n",
    "plt.xticks(rotation=45)\n",
    "plt.ylabel(\"Number of Images\")\n",
    "#plt.tight_layout()\n",
    "#plt.show()\n",
    "plt.savefig(\"crop_disease_distribution.png\", dpi=300) \n",
    "plt.close()  # Close the figure to avoid displaying it in notebooks"
   ]
  },
  {
   "cell_type": "code",
   "execution_count": null,
   "id": "7a8b66f3-47c9-4267-8e7e-b5327fdd442e",
   "metadata": {},
   "outputs": [],
   "source": []
  }
 ],
 "metadata": {
  "kernelspec": {
   "display_name": "Python 3 (ipykernel)",
   "language": "python",
   "name": "python3"
  },
  "language_info": {
   "codemirror_mode": {
    "name": "ipython",
    "version": 3
   },
   "file_extension": ".py",
   "mimetype": "text/x-python",
   "name": "python",
   "nbconvert_exporter": "python",
   "pygments_lexer": "ipython3",
   "version": "3.12.9"
  }
 },
 "nbformat": 4,
 "nbformat_minor": 5
}
