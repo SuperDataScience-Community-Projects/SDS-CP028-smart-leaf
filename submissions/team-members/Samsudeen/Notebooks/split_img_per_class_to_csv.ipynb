{
 "cells": [
  {
   "cell_type": "code",
   "execution_count": null,
   "id": "cd88785b-bff9-42b6-8de7-24e01d17d476",
   "metadata": {},
   "outputs": [],
   "source": [
    "import os\n",
    "import csv\n",
    "from collections import defaultdict\n",
    "\n",
    "base_dir = \"C:/Users/OWNER/Downloads/SDS-CP028-smart-leaf/submissions/team-members/Samsudeen/TrainValTestDir\"\n",
    "output_csv = \"split_img_class_distribution.csv\"\n",
    "\n",
    "split_counts = defaultdict(dict)\n",
    "\n",
    "# Collect counts\n",
    "for split in ['train', 'val', 'test']:\n",
    "    split_path = os.path.join(base_dir, split)\n",
    "\n",
    "    for class_name in sorted(os.listdir(split_path)):\n",
    "        class_path = os.path.join(split_path, class_name)\n",
    "        if not os.path.isdir(class_path):\n",
    "            continue\n",
    "\n",
    "        count = len([\n",
    "            f for f in os.listdir(class_path)\n",
    "            if os.path.isfile(os.path.join(class_path, f))\n",
    "        ])\n",
    "\n",
    "        split_counts[split][class_name] = count\n",
    "\n",
    "# Get all class names\n",
    "all_classes = sorted({cls for d in split_counts.values() for cls in d})\n",
    "\n",
    "# Write to CSV\n",
    "with open(output_csv, mode='w', newline='') as file:\n",
    "    writer = csv.writer(file)\n",
    "    writer.writerow([\"Class\", \"Train Count\", \"Val Count\", \"Test Count\", \"Total\"])\n",
    "\n",
    "    for cls in all_classes:\n",
    "        train = split_counts['train'].get(cls, 0)\n",
    "        val = split_counts['val'].get(cls, 0)\n",
    "        test = split_counts['test'].get(cls, 0)\n",
    "        total = train + val + test\n",
    "        writer.writerow([cls, train, val, test, total])\n",
    "\n",
    "print(f\"✅ Class distribution written to: {output_csv}\")\n"
   ]
  }
 ],
 "metadata": {
  "kernelspec": {
   "display_name": "Python 3 (ipykernel)",
   "language": "python",
   "name": "python3"
  },
  "language_info": {
   "codemirror_mode": {
    "name": "ipython",
    "version": 3
   },
   "file_extension": ".py",
   "mimetype": "text/x-python",
   "name": "python",
   "nbconvert_exporter": "python",
   "pygments_lexer": "ipython3",
   "version": "3.12.9"
  }
 },
 "nbformat": 4,
 "nbformat_minor": 5
}
